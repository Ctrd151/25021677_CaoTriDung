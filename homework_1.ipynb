{
  "nbformat": 4,
  "nbformat_minor": 0,
  "metadata": {
    "colab": {
      "provenance": []
    },
    "kernelspec": {
      "name": "python3",
      "display_name": "Python 3"
    },
    "language_info": {
      "name": "python"
    }
  },
  "cells": [
    {
      "cell_type": "code",
      "source": [
        "#bài 1\n",
        "n=int(input())\n",
        "print(n*2)"
      ],
      "metadata": {
        "colab": {
          "base_uri": "https://localhost:8080/"
        },
        "id": "dKV3XkOGQuNW",
        "outputId": "3e64a868-82ad-442e-9ed4-9088348c81d2"
      },
      "execution_count": 5,
      "outputs": [
        {
          "output_type": "stream",
          "name": "stdout",
          "text": [
            "3\n",
            "6\n"
          ]
        }
      ]
    },
    {
      "cell_type": "code",
      "source": [
        "#bài 2\n",
        "a,b= map(float,input('nhập chiều dài, chiều rộng').split())\n",
        "print('diện tích còn lại: ', round(a*b-(3.14*(b/2)**2),2))"
      ],
      "metadata": {
        "colab": {
          "base_uri": "https://localhost:8080/"
        },
        "id": "wirTIdMHRALR",
        "outputId": "f09b8123-f182-4773-94db-97fd90ca181e"
      },
      "execution_count": 6,
      "outputs": [
        {
          "output_type": "stream",
          "name": "stdout",
          "text": [
            "nhập chiều dài, chiều rộng5 3\n",
            "diện tích còn lại:  7.935\n"
          ]
        }
      ]
    },
    {
      "cell_type": "code",
      "source": [
        "#bài 3\n",
        "n=input()\n",
        "if ord(n)<=90:\n",
        "  print(chr(ord(n)+32))\n",
        "else:\n",
        "  print(chr(ord(n)-32))"
      ],
      "metadata": {
        "colab": {
          "base_uri": "https://localhost:8080/"
        },
        "id": "bgb22VMBR5Qn",
        "outputId": "425159dc-800e-40af-dab4-62d4f98e929c"
      },
      "execution_count": 8,
      "outputs": [
        {
          "output_type": "stream",
          "name": "stdout",
          "text": [
            "a\n",
            "A\n"
          ]
        }
      ]
    },
    {
      "cell_type": "code",
      "source": [
        "#bài 4\n",
        "n=input()\n",
        "if (ord(n)<=65 and ord(n)>=90) or (ord(n)<=97 and ord(n)<=122):\n",
        "  print(f\"{n} là kí tự alphabet \")\n",
        "else:\n",
        "  print(f'{n} không là kí tự alphabet')"
      ],
      "metadata": {
        "colab": {
          "base_uri": "https://localhost:8080/"
        },
        "id": "9e3EQoRRS8t0",
        "outputId": "e817dbd1-e36c-4587-e792-f22f41273135"
      },
      "execution_count": 10,
      "outputs": [
        {
          "output_type": "stream",
          "name": "stdout",
          "text": [
            "d\n",
            "d không là kí tự alphabet\n"
          ]
        }
      ]
    },
    {
      "cell_type": "code",
      "source": [
        "#bài 5\n",
        "n=input()\n",
        "if ord(n)==65:\n",
        "  print(chr(ord(n)+32))\n",
        "else:\n",
        "  print(chr(ord(n)+31))"
      ],
      "metadata": {
        "colab": {
          "base_uri": "https://localhost:8080/"
        },
        "id": "8qaUNSe-Uwyv",
        "outputId": "785ee34f-35df-49df-97d3-6ff35895b843"
      },
      "execution_count": 15,
      "outputs": [
        {
          "output_type": "stream",
          "name": "stdout",
          "text": [
            "H\n",
            "g\n"
          ]
        }
      ]
    },
    {
      "cell_type": "code",
      "execution_count": 4,
      "metadata": {
        "colab": {
          "base_uri": "https://localhost:8080/"
        },
        "id": "dkkcUxFhLwwk",
        "outputId": "2e8ee7bc-64d8-4041-c03b-2569040813ab"
      },
      "outputs": [
        {
          "output_type": "stream",
          "name": "stdout",
          "text": [
            "nhập độ dài 3 cạnh :5 4 5\n",
            "đó là độ dài cạnh của 1 tam giác\n",
            "chu vi:  14\n",
            "diện tích:  9.17\n"
          ]
        }
      ],
      "source": [
        "#bài 6\n",
        "a, b ,c = map(float, input(\"nhập độ dài 3 cạnh :\").split())\n",
        "if a+b>c and a+c>b and b+c>a and a>0 and b>0 and c>0:\n",
        "  print(\"đó là độ dài cạnh của 1 tam giác\")\n",
        "  print('chu vi: ', a+b+c)\n",
        "  p=(a+b+c)/2\n",
        "  print('diện tích: ', round((p*(p-a)*(p-b)*(p-c))**(1/2),2))\n",
        "else:\n",
        "  print('đó không là độ dài cạnh của 1 tam giác')"
      ]
    },
    {
      "cell_type": "code",
      "source": [
        "#bài tập thêm\n",
        "dd,mm,yy=map(int,input().split('/'))\n",
        "if (dd>0 and dd<32 and mm>0 and mm<13 and yy>=1900 and yy<=2100):\n",
        "  le=[1,3,5,7,8,10,12]\n",
        "  chan=[4,6,9,11]\n",
        "  if (mm in le) and dd<=31:\n",
        "    print(\"valid\")\n",
        "  elif (mm in chan) and dd<=30:\n",
        "    print(\"valid\")\n",
        "  elif mm==2:\n",
        "    if (yy%400==0) and dd<=28:\n",
        "       print(\"valid\")\n",
        "    elif (yy%400!=0) and dd<=29:\n",
        "       print('valid')\n",
        "  else:\n",
        "    print('invalid')\n",
        "else:\n",
        "  print('invalid')\n"
      ],
      "metadata": {
        "colab": {
          "base_uri": "https://localhost:8080/"
        },
        "id": "_IPHLdO5WTMF",
        "outputId": "8d431bfb-2a73-42c0-b1f3-97b4ed7fa514"
      },
      "execution_count": 2,
      "outputs": [
        {
          "output_type": "stream",
          "name": "stdout",
          "text": [
            "22/01/2007\n",
            "valid\n"
          ]
        }
      ]
    },
    {
      "cell_type": "code",
      "source": [
        "#Bài 7\n",
        "l=list(input())\n",
        "if len(l)>=20:\n",
        "  print(f'chữ cái thứ 5 là {l[4]} chữ cái thứ 9 là {l[8]} ')\n",
        "else:\n",
        "  print('nhập chưa đủ kí tự ')"
      ],
      "metadata": {
        "colab": {
          "base_uri": "https://localhost:8080/"
        },
        "id": "oWZqPJYsTxXH",
        "outputId": "c8df2aa8-66b2-4025-b6d3-a235f6bed892"
      },
      "execution_count": 3,
      "outputs": [
        {
          "output_type": "stream",
          "name": "stdout",
          "text": [
            "kgjyhuyggydtfuutdyudi7\n",
            "chữ cái thứ 5 là h chữ cái thứ 9 là g \n"
          ]
        }
      ]
    },
    {
      "cell_type": "code",
      "source": [
        "#BÀi 8\n",
        "#- Từ 0 – 50kWh: 1.984 đồng/kWh\n",
        "#- Bậc 2: Từ 51 – 100 kWh: 2.050 đồng/kWh\n",
        "#- Bậc 3: Từ 101 – 200 kWh: 2.380 đồng/kWh\n",
        "#- Bậc 4: Từ 201 – 300 kWh: 2.998 đồng/kWh\n",
        "#- Bậc 5: Từ 301 – 400 kWh: 3.350 đồng/kWh\n",
        "#- Bậc 6: Từ 401 trở đi kWh: 3.460 đồng/kWh\n",
        "name=input('nhập tên: ')\n",
        "a,b=map(float,input('nhập chỉ số điện kế của tháng trước và tháng này: ').split())\n",
        "c=b-a\n",
        "if c>=0:\n",
        "  if c<=50:\n",
        "    tien=c*1.984\n",
        "  elif c>50 and c<=100:\n",
        "    tien=50*1.984+(c-50)*2.05\n",
        "  elif c>100 and c<=200:\n",
        "    tien=50*1.984+50*2.05+(c-100)*2.380\n",
        "  elif c>200 and c<=300:\n",
        "    tien=50*1.984+50*2.05+100*2.38+(c-200)*2.998\n",
        "  elif c>300 and c<=400:\n",
        "    tien=50*1.984+50*2.05+100*2.38+100*2.998+(c-300)*3.35\n",
        "  elif c>400:\n",
        "    tien=50*1.984+50*2.05+100*2.38+100*2.998+100*3.35+(c-400)*3.46\n",
        "  print(f\"Họ và tên: {name}\")\n",
        "  print(f'Số tiền phải trả là:{tien}')\n",
        "else:\n",
        "  print('không hợp lệ')\n",
        ""
      ],
      "metadata": {
        "colab": {
          "base_uri": "https://localhost:8080/"
        },
        "id": "Wsu00gZpWF0u",
        "outputId": "653d7487-41f6-4cca-bdab-8a21056af6cd"
      },
      "execution_count": 7,
      "outputs": [
        {
          "output_type": "stream",
          "name": "stdout",
          "text": [
            "nhập tên: ctd\n",
            "nhập chỉ số điện kế của tháng trước và tháng này: 1000 2000\n",
            "Họ và tên: ctd\n",
            "Số tiền phải trả là:3150.5\n"
          ]
        }
      ]
    }
  ]
}