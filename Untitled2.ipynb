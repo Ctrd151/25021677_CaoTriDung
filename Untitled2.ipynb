{
  "nbformat": 4,
  "nbformat_minor": 0,
  "metadata": {
    "colab": {
      "provenance": []
    },
    "kernelspec": {
      "name": "python3",
      "display_name": "Python 3"
    },
    "language_info": {
      "name": "python"
    }
  },
  "cells": [
    {
      "cell_type": "code",
      "execution_count": null,
      "metadata": {
        "colab": {
          "base_uri": "https://localhost:8080/"
        },
        "id": "tZznlGdNbDJP",
        "outputId": "471ae1a9-752e-4bcf-bf82-75ab5265d9b8"
      },
      "outputs": [
        {
          "output_type": "stream",
          "name": "stdout",
          "text": [
            "hello world\n",
            "213\n"
          ]
        }
      ],
      "source": [
        "#W2A1\n",
        "print(\"hello world\")\n",
        "a=2\n",
        "b=1\n",
        "c=a+b\n",
        "print(a, b, c, sep='')"
      ]
    },
    {
      "cell_type": "code",
      "source": [
        "#W2A2\n",
        "a=input()\n",
        "print(\"Xin chào \"+a+\" !\")"
      ],
      "metadata": {
        "colab": {
          "base_uri": "https://localhost:8080/"
        },
        "id": "4PMhebczbK09",
        "outputId": "319dae20-876c-42cf-c5b4-328ae25de459"
      },
      "execution_count": null,
      "outputs": [
        {
          "output_type": "stream",
          "name": "stdout",
          "text": [
            "hjhh\n",
            "Xin chào hjhh !\n"
          ]
        }
      ]
    },
    {
      "cell_type": "code",
      "source": [
        "#W2A3\n",
        "c=input()\n",
        "a,b=map(int,c.split())\n",
        "print(\"a + b = \", a+b)\n",
        "print(\"a - b = \", a-b)\n",
        "print(\"a * b = \", a*b)\n",
        "print(\"a / b = \",f\"{a/b:.2f}\")\n",
        "print(\"a // b = \", a//b)\n",
        "print(\"a % b = \", a%b)\n",
        "print(\"a ** b = \", a**b)"
      ],
      "metadata": {
        "id": "LyEhCEVWbMkp"
      },
      "execution_count": null,
      "outputs": []
    },
    {
      "cell_type": "code",
      "source": [
        "#W2A4\n",
        "a1, b1, c1, a2, b2, a3=map(int,input().split())\n",
        "TB=((a1+b1+c1)+(a2+b2)*2+a3*3)/10\n",
        "print(round(TB,1))"
      ],
      "metadata": {
        "id": "YBwx8Jt-bOvb"
      },
      "execution_count": null,
      "outputs": []
    },
    {
      "cell_type": "code",
      "source": [
        "#W2A6\n",
        "a=list(input())\n",
        "for i in a:\n",
        " b=ord(i)\n",
        " print(chr(b-32))"
      ],
      "metadata": {
        "id": "DMbgmozAbRDg"
      },
      "execution_count": null,
      "outputs": []
    },
    {
      "cell_type": "code",
      "source": [
        "#W2A7\n",
        "print(((13 ** 2) * 3) + 5)\n",
        "print(13**2*3 + 5)"
      ],
      "metadata": {
        "id": "Qt3y6_z5bVdo"
      },
      "execution_count": null,
      "outputs": []
    },
    {
      "cell_type": "code",
      "source": [
        "#W2A8\n",
        "c=int(input())\n",
        "print('F=', 9/5*c + 32)"
      ],
      "metadata": {
        "id": "q9U8dLDQbWMK"
      },
      "execution_count": null,
      "outputs": []
    },
    {
      "cell_type": "code",
      "source": [
        "#W2A9\n",
        "x=int(input())\n",
        "print(round(x+10+4*x/10,1))"
      ],
      "metadata": {
        "id": "Vghhujj-bX74"
      },
      "execution_count": null,
      "outputs": []
    },
    {
      "cell_type": "code",
      "source": [
        "#W2A10\n",
        "a=list(input(). split())\n",
        "print(a)\n",
        "print('xin chào',a[2],a[1],a[0], sep=' ')"
      ],
      "metadata": {
        "id": "rhinlq0Kbb4F"
      },
      "execution_count": null,
      "outputs": []
    },
    {
      "cell_type": "code",
      "source": [
        "#W2A11\n",
        "h,m= map(int, input('nhập số giờ và phút cách nhau bởi dấu cách ').split())\n",
        "print('số giây là ', (h*60+m)*60)"
      ],
      "metadata": {
        "id": "yYG_r9k-bcWv"
      },
      "execution_count": null,
      "outputs": []
    },
    {
      "cell_type": "code",
      "source": [
        "#W2A12\n",
        "n=int(input('nhập độ dài cạnh '))\n",
        "print('số lượng miếng dán là: ', n**2*6)"
      ],
      "metadata": {
        "id": "NVdlDYFzbeRH"
      },
      "execution_count": null,
      "outputs": []
    },
    {
      "cell_type": "code",
      "source": [
        "#W2A13\n",
        "a,b=map(int,input('nhập hai số cách nhau bởi dấu cách').split())\n",
        "print('số hàng đơn vị của tích hai số là ', a*b%10)"
      ],
      "metadata": {
        "id": "E4WnpDS1bhAW"
      },
      "execution_count": null,
      "outputs": []
    },
    {
      "cell_type": "code",
      "source": [
        "#W2A14\n",
        "a,b=map(int,input('nhập hai số cách nhau bởi dấu cách').split())\n",
        "a = a + b\n",
        "b = a - b\n",
        "a = a - b\n",
        "print(\"Sau khi hoán đổi: a =\", a, \", b =\", b)"
      ],
      "metadata": {
        "id": "Sv7wKrPabkIt"
      },
      "execution_count": null,
      "outputs": []
    },
    {
      "cell_type": "code",
      "source": [
        "#W2A15\n",
        "n=int(input('nhập số n '))\n",
        "print(' số sao thứ',n,'là',  3*n*(n-1)+1)"
      ],
      "metadata": {
        "id": "jGOsAyuWboXf"
      },
      "execution_count": null,
      "outputs": []
    },
    {
      "cell_type": "code",
      "source": [
        "#W2A16\n",
        "print(\"Spring\")\n",
        "print(\"Summer\")\n",
        "print(\"Autumn\")\n",
        "print(\"Winter\")\n",
        "print(\"Spring\\nSummer\\nAutumn\\nWinter\")"
      ],
      "metadata": {
        "id": "XCgSf_WvbrtP"
      },
      "execution_count": null,
      "outputs": []
    },
    {
      "cell_type": "code",
      "source": [
        "#W2A17\n",
        "print(\"  *  \")\n",
        "print(\" *** \")\n",
        "print(\"*****\")"
      ],
      "metadata": {
        "id": "N8otWlknbsGX"
      },
      "execution_count": null,
      "outputs": []
    },
    {
      "cell_type": "code",
      "source": [
        "#W2A18\n",
        "print(\"###  # #   ###  ### \")\n",
        "print(\" #   #   #  #    #  \")\n",
        "print(\" #   #   #  #    #  \")\n",
        "print(\" #   #   #  #    #  \")\n",
        "print(\" #   # #    #    #  \")"
      ],
      "metadata": {
        "id": "FXMfE_BKbvwy"
      },
      "execution_count": null,
      "outputs": []
    },
    {
      "cell_type": "code",
      "source": [
        "#W2A19\n",
        "days = [\"Monday\", \"Tuesday\", \"Wednesday\", \"Thursday\", \"Friday\", \"Saturday\", \"Sunday\"]\n",
        "\n",
        "for day in days:\n",
        "    print(day)"
      ],
      "metadata": {
        "id": "2LL-hBy8bwaj"
      },
      "execution_count": null,
      "outputs": []
    },
    {
      "cell_type": "code",
      "source": [
        "#W2A20\n",
        "months = [\n",
        "    \"January\", \"February\", \"March\", \"April\", \"May\", \"June\",\n",
        "    \"July\", \"August\", \"September\", \"October\", \"November\", \"December\"\n",
        "]\n",
        "\n",
        "for month in months:\n",
        "    print(month)"
      ],
      "metadata": {
        "id": "QW7CK9F6bzuy"
      },
      "execution_count": null,
      "outputs": []
    },
    {
      "cell_type": "code",
      "source": [
        "#W2A21\n",
        "for i in range(10):\n",
        "    print(\"Hello, world\")"
      ],
      "metadata": {
        "id": "0M0P5iuab18h"
      },
      "execution_count": null,
      "outputs": []
    }
  ]
}