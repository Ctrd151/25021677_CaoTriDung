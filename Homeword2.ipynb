{
  "nbformat": 4,
  "nbformat_minor": 0,
  "metadata": {
    "colab": {
      "provenance": []
    },
    "kernelspec": {
      "name": "python3",
      "display_name": "Python 3"
    },
    "language_info": {
      "name": "python"
    }
  },
  "cells": [
    {
      "cell_type": "code",
      "execution_count": 1,
      "metadata": {
        "colab": {
          "base_uri": "https://localhost:8080/"
        },
        "id": "t90mgqjwSduz",
        "outputId": "3ed8f936-c108-457e-91bb-ba316c36681d"
      },
      "outputs": [
        {
          "output_type": "stream",
          "name": "stdout",
          "text": [
            "nhập độ dài hai cạnh :3 4\n",
            "chu vi:14.0 diện tích: 12.0\n"
          ]
        }
      ],
      "source": [
        "#bài 1\n",
        "a,b=map(float,input('nhập độ dài hai cạnh :').split())\n",
        "print(f\"chu vi:{(a+b)*2} diện tích: {a*b}\")"
      ]
    },
    {
      "cell_type": "code",
      "source": [
        "#bài 2\n",
        "r=float(input('nhập bán kính:'))\n",
        "print(f'chu vi {round(2*3.14*r,2)} diện tích {round(3.14*r*r,2)}')"
      ],
      "metadata": {
        "colab": {
          "base_uri": "https://localhost:8080/"
        },
        "id": "jQe7RuLdTe-O",
        "outputId": "bbbf0985-32ac-4a52-a8bf-dc7e7ec22279"
      },
      "execution_count": 4,
      "outputs": [
        {
          "output_type": "stream",
          "name": "stdout",
          "text": [
            "nhập bán kính:3\n",
            "chu vi 18.84 diện tích 28.26\n"
          ]
        }
      ]
    },
    {
      "cell_type": "code",
      "source": [
        "#Bài 3 : Tính tam giác: Nhâp vào ba số a,b,c bất kì. Kiểmtra xem nó có thể là\n",
        "#độ dài ba cạnh hay không, nếu không thì in ra màn hình 'Khong la ba canh cua mot tam giac'.\n",
        "#Ngược lại, kiểm tra xem nó là tam giác gì: Đều, Cân, Vuông, hay Tam giác thường.\n",
        "#Tính diện tích, chu vi của tam giác và in ra màn hình.\n",
        "a,b,c=map(float,input().split())\n",
        "if a+b>c and a+c>b and b+c>a:\n",
        "  if a==b and b==c:\n",
        "    print('là tam giác đều')\n",
        "  elif a==b or b==c or a==c:\n",
        "    print('là tam giác cân')\n",
        "  elif a*a+b*b==c*c or b*b+c*c==a*a or a*a+c*c==b*b:\n",
        "    print('là tam giác vuông')\n",
        "  else:\n",
        "    print('là tam giác thường')\n",
        "  p=(a+b+c)/2\n",
        "  print(f'chu vi: {p*2} diện tích: {(p*(p-a)*(p-b)*(p-c))**(1/2)}')\n",
        "else:\n",
        "  print('Khong la ba canh cua mot tam giac')\n",
        ""
      ],
      "metadata": {
        "colab": {
          "base_uri": "https://localhost:8080/"
        },
        "id": "MFYkvj_2UejV",
        "outputId": "89732fe3-c7ec-4291-d75a-1a949933e896"
      },
      "execution_count": 4,
      "outputs": [
        {
          "output_type": "stream",
          "name": "stdout",
          "text": [
            "1 2 6\n",
            "Khong la ba canh cua mot tam giac\n"
          ]
        }
      ]
    },
    {
      "cell_type": "code",
      "source": [
        "#Bài 4: Viết chương trình giải phương trình bậc 1 (ax + b = 0)\n",
        "a,b=map(float,input('nhập hệ số a,b: ').split())\n",
        "print('x=',-b/a)"
      ],
      "metadata": {
        "colab": {
          "base_uri": "https://localhost:8080/"
        },
        "id": "hA5NZENgWN3E",
        "outputId": "70ac62ed-5571-4fd8-dd31-f2a061fdc894"
      },
      "execution_count": 6,
      "outputs": [
        {
          "output_type": "stream",
          "name": "stdout",
          "text": [
            "nhập hệ số a,b: 3 5\n",
            "x= -1.6666666666666667\n"
          ]
        }
      ]
    },
    {
      "cell_type": "code",
      "source": [
        "#Bài 5: Viết chương trình giải phương trình bậc 2 (ax2 + bx + c = 0)\n",
        "a,b,c=map(float,input('nhập hệ số a, b, c: ').split())\n",
        "delta=b**2-4*a*c\n",
        "if delta>0:\n",
        " print(f'x1={(-b+delta**(1/2))/(2*a)}',f'x2={(-b-delta**(1/2))/(2*a)}', sep=', ')\n",
        "elif delta==0:\n",
        "  print(f\"x= {-b/(2*a)}\")\n",
        "else:\n",
        "  print('vô nghiệm')"
      ],
      "metadata": {
        "colab": {
          "base_uri": "https://localhost:8080/"
        },
        "id": "p-_UDFcQXHik",
        "outputId": "32b707c9-01b8-4d30-f8ed-3854c28c27cd"
      },
      "execution_count": 10,
      "outputs": [
        {
          "output_type": "stream",
          "name": "stdout",
          "text": [
            "nhập hệ số a, b, c: 2 5 3\n",
            "x1=-1.0, x2=-1.5\n"
          ]
        }
      ]
    },
    {
      "cell_type": "code",
      "source": [
        "#Bài 6: Tìm giá trị lớn nhất trong 4 số a, b, c, d (a, b, c, d được nhập từ bàn phím).\n",
        "#Bài 7: Tìm giá trị nhỏ nhất trong 4 số a, b, c, d (a, b, c, d được nhập từ bàn phím).\n",
        "l = list(map(float, input('Nhập 4 số a, b, c, d: ').split()))\n",
        "max=l[1]\n",
        "min=l[1]\n",
        "for i in range(0,len(l)-1):\n",
        "  if l[i+1]>max:\n",
        "    max=l[i+1]\n",
        "  elif l[i+1]<min:\n",
        "    min=l[i+1]\n",
        "print(f'giá trị lớn nhất là {max}, giá trị nhỏ nhất là {min}')"
      ],
      "metadata": {
        "colab": {
          "base_uri": "https://localhost:8080/"
        },
        "id": "FEapv6VNaKyC",
        "outputId": "0fdd9bbc-fdd9-4a81-8b00-9d02344acbe5"
      },
      "execution_count": 18,
      "outputs": [
        {
          "output_type": "stream",
          "name": "stdout",
          "text": [
            "Nhập 4 số a, b, c, d: 4 2 6 8 \n",
            "giá trị lớn nhất là 8.0, giá trị nhỏ nhất là 2.0\n"
          ]
        }
      ]
    },
    {
      "cell_type": "code",
      "source": [
        "#bài 8\n",
        "a,b,m=map(float,input(\"nhập hệt số pt 1 ax+by=m:\").split())\n",
        "c,d,n=map(float,input(\"nhập hệt số pt 2 bx+dy=n:\").split())\n",
        "y=(m*c-n*a)/(b*c-a*d)\n",
        "x=(m-b*y)/a\n",
        "print(f\"x={x}, y={y}\")"
      ],
      "metadata": {
        "colab": {
          "base_uri": "https://localhost:8080/"
        },
        "id": "qkujoyxOdakR",
        "outputId": "6d6c4e60-f138-405e-807e-04299eeb8920"
      },
      "execution_count": 20,
      "outputs": [
        {
          "output_type": "stream",
          "name": "stdout",
          "text": [
            "nhập hệt số pt 1 ax+by=m:2 4 6\n",
            "nhập hệt số pt 1 bx+dy=n:5 7 12\n",
            "x=1.0, y=1.0\n"
          ]
        }
      ]
    },
    {
      "cell_type": "code",
      "source": [
        "#Bài 9: Nhập vào thời gian 1 công việc nào đó là x giây.\n",
        "#Hãy chuyển đổi và viết ra màn hình số thời gian trên dưới\n",
        "#dạng bằng bao nhiêu giờ, bao nhiêu phút, bao nhiêu giây\n",
        "s=float(input(\"nhập số giây: \"))\n",
        "m=0\n",
        "h=0\n",
        "if s>60:\n",
        "  m=s//60\n",
        "  s=s%60\n",
        "if m>60:\n",
        "  h=m//60\n",
        "  m=m%60\n",
        "print(f\"{h} giờ, {m} phút, {s} giây\")"
      ],
      "metadata": {
        "colab": {
          "base_uri": "https://localhost:8080/"
        },
        "id": "pPe0oAUtpcYP",
        "outputId": "6bb36a0f-3592-4b7b-bfef-c9f793c721eb"
      },
      "execution_count": 24,
      "outputs": [
        {
          "output_type": "stream",
          "name": "stdout",
          "text": [
            "nhập số giây: 546\n",
            "0 giờ, 9.0 phút, 6.0 giây\n"
          ]
        }
      ]
    },
    {
      "cell_type": "code",
      "source": [
        "#Bài 10: Nhập vào tâm và bán kính của một đường tròn.\n",
        "#Sau đó nhập vào một điểm A(x, y) bất kì và kiểm tra xem nó có thuộc đường tròn hay không?\n",
        "a,b,r=map(float,input(\"nhập tọa độ tâm O(a,b) và bán kính r: \").split())\n",
        "x,y=map(float,input(\"nhập tọa độ A(x,y): \").split())\n",
        "d=((a-x)**2+(b-y)**2)**(1/2)\n",
        "if d==r:\n",
        "  print(f\"điểm A({x},{y}) thuộc đường tròn tâm O({a},{b}) bán kính r={r}\")\n",
        "else:\n",
        "  print(f\"điểm A({x},{y}) không thuộc đường tròn tâm O({a},{b}) bán kính r={r}\")"
      ],
      "metadata": {
        "colab": {
          "base_uri": "https://localhost:8080/"
        },
        "id": "X61MLEjuq8PF",
        "outputId": "6ae82e45-e4bb-45fb-9972-a773d22cd41a"
      },
      "execution_count": 26,
      "outputs": [
        {
          "output_type": "stream",
          "name": "stdout",
          "text": [
            "nhập tọa độ tâm O(a,b) và bán kính r: 0 0 2.5\n",
            "nhập tọa độ A(x,y): 2.5 0\n",
            "điểm A(2.5,0.0) thuộc đường tròn tâm O(0.0,0.0) bán kính r=2.5\n"
          ]
        }
      ]
    },
    {
      "cell_type": "code",
      "source": [
        "#Bài 11:\n",
        "x,y=map(float,input(\"nhập hai số x,y: \").split())\n",
        "print(f\"{x}^{y}={x**y}\")"
      ],
      "metadata": {
        "colab": {
          "base_uri": "https://localhost:8080/"
        },
        "id": "kG-cUkYAs9XI",
        "outputId": "4c65d18c-b461-4552-ff42-0677e9497699"
      },
      "execution_count": 28,
      "outputs": [
        {
          "output_type": "stream",
          "name": "stdout",
          "text": [
            "nhập hai số x,y: 2 2\n",
            "2.0^2.0=4.0\n"
          ]
        }
      ]
    }
  ]
}